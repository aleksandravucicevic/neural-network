{
 "cells": [
  {
   "cell_type": "markdown",
   "metadata": {},
   "source": [
    "# **Projektni zadatak br. 2**\n",
    "Za potrebe prvog dijela projektnog zadatka, kreirana je neuronska mreža nad ***RCV1*** skupom podataka.\n",
    "\n",
    "Za instalaciju biblioteka potrebnih za pokretanje koda ovog dijela projektnog zadatka (na Windows operativnom sistemu) potrebno je u command prompt-u pokrenuti naredbe:\n",
    "```bash\n",
    "pip install tensorflow\n",
    "pip install scikit-learn\n",
    "pip install imbalanced-learn\n",
    "```"
   ]
  },
  {
   "cell_type": "code",
   "execution_count": 2,
   "metadata": {},
   "outputs": [],
   "source": [
    "import tensorflow as tf\n",
    "\n",
    "from tensorflow.keras.models import Sequential\n",
    "from tensorflow.keras.layers import Input, Dense, Dropout\n",
    "from tensorflow.keras.callbacks import ModelCheckpoint\n",
    "from tensorflow.keras.losses import SparseCategoricalCrossentropy\n",
    "from tensorflow.keras.optimizers import Adam"
   ]
  },
  {
   "cell_type": "markdown",
   "metadata": {},
   "source": [
    "***RCV1*** skup ima 804 414 podataka.\n",
    "Skup je prikazan kao vektor dimenzionalnosti 47 236, pa će u ulaznom sloju neuronske mreže biti 47 236 neurona, a kako radimo klasifikaciju nad skupom podataka koji ima 103 klase, neuronska mreža će u posljednjem sloju imati 103 neurona."
   ]
  },
  {
   "cell_type": "code",
   "execution_count": 3,
   "metadata": {},
   "outputs": [],
   "source": [
    "from sklearn.datasets import fetch_rcv1\n",
    "from sklearn.model_selection import train_test_split\n",
    "\n",
    "# učitavanje RCV1 podataka\n",
    "rcv1_train = fetch_rcv1(subset='train')\n",
    "rcv1_test = fetch_rcv1(subset='test')\n",
    "\n",
    "X_train = rcv1_train.data\n",
    "y_train = rcv1_train.target.toarray().argmax(axis=1)  # konvertovanje u jedinstvene oznake\n",
    "X_test = rcv1_test.data\n",
    "y_test = rcv1_test.target.toarray().argmax(axis=1)"
   ]
  },
  {
   "cell_type": "markdown",
   "metadata": {},
   "source": [
    "Iz specifikacije skupa možemo vidjeti da je skup već podijeljen na trening i testni podskup, pa je dovoljno da pri uvozu samo naglasimo koji od podskupova želimo preuzeti.\n",
    "\n",
    "Zatim te podskupove dijelimo na odgovarajuće *data* i *target* skupove."
   ]
  },
  {
   "cell_type": "code",
   "execution_count": 4,
   "metadata": {},
   "outputs": [],
   "source": [
    "# izdvajanje po 50% podataka iz trening i test skupa\n",
    "X_train, _, y_train, _ = train_test_split(X_train, y_train, test_size=0.5, random_state=42)\n",
    "X_test, _, y_test, _ = train_test_split(X_test, y_test, test_size=0.5, random_state=42)"
   ]
  },
  {
   "cell_type": "markdown",
   "metadata": {},
   "source": [
    "Zbog obimnosti skupa smanjujemo veličinu svakog od podskupova s kojim radimo za 50%."
   ]
  },
  {
   "cell_type": "code",
   "execution_count": 5,
   "metadata": {},
   "outputs": [],
   "source": [
    "# izdvajanje validacionog skupa\n",
    "X_train, X_valid, y_train, y_valid = train_test_split(X_train, y_train, test_size=0.15, random_state=42)"
   ]
  },
  {
   "cell_type": "markdown",
   "metadata": {},
   "source": [
    "Iz trening skupa izdvajamo 15% podataka u validacioni skup."
   ]
  },
  {
   "cell_type": "code",
   "execution_count": 6,
   "metadata": {},
   "outputs": [
    {
     "name": "stdout",
     "output_type": "stream",
     "text": [
      "<class 'scipy.sparse._csr.csr_matrix'>\n",
      "<class 'scipy.sparse._csr.csr_matrix'>\n",
      "<class 'scipy.sparse._csr.csr_matrix'>\n"
     ]
    }
   ],
   "source": [
    "# provjera tipa\n",
    "print(type(X_train))\n",
    "print(type(X_test))\n",
    "print(type(X_valid))"
   ]
  },
  {
   "cell_type": "markdown",
   "metadata": {},
   "source": [
    "Uočavamo da su podaci sa kojim raspolažemo u obliku **scipy sparse matrica**. Konverzija scipy sparse matrice u **dense numpy array** nije moguća zbog prevelikog memorijskog zauzeća, pa moramo raditi sa podacima u sparse formatu, za šta je pogodna biblioteka *tensorflow* (pytorch nema toliku podršku za rad sa sparse tenzorima)."
   ]
  },
  {
   "cell_type": "code",
   "execution_count": 7,
   "metadata": {},
   "outputs": [],
   "source": [
    "from imblearn.over_sampling import SMOTE\n",
    "\n",
    "# primjena SMOTE za balansiranje trening skupa\n",
    "smote = SMOTE(random_state=42, k_neighbors=1)\n",
    "X_train_res, y_train_res = smote.fit_resample(X_train, y_train)"
   ]
  },
  {
   "cell_type": "code",
   "execution_count": 26,
   "metadata": {},
   "outputs": [
    {
     "name": "stdout",
     "output_type": "stream",
     "text": [
      "47236\n"
     ]
    }
   ],
   "source": [
    "# provjera broja karakteristika\n",
    "n_features = X_train_res.shape[1]\n",
    "print(f'{n_features}')"
   ]
  },
  {
   "cell_type": "markdown",
   "metadata": {},
   "source": [
    "Dimenzionalnost podataka (*data*) iznosi 47 236, sa 0.16% ne-nula vrijednosti."
   ]
  },
  {
   "cell_type": "code",
   "execution_count": 18,
   "metadata": {},
   "outputs": [
    {
     "name": "stdout",
     "output_type": "stream",
     "text": [
      "X_train_res: (74556, 47236)\n",
      "X_valid: (1737, 47236)\n",
      "X_test: (390632, 47236)\n"
     ]
    }
   ],
   "source": [
    "# provjera dimenzionalnosti\n",
    "print(f'X_train_res: {X_train_res.shape}')\n",
    "print(f'X_valid: {X_valid.shape}')\n",
    "print(f'X_test: {X_test.shape}')"
   ]
  },
  {
   "cell_type": "code",
   "execution_count": 10,
   "metadata": {},
   "outputs": [],
   "source": [
    "# definisanje arhitekture neuronske mreže\n",
    "model = Sequential([\n",
    "    Input(shape=(X_train.shape[1],)),  # ulazni sloj\n",
    "    Dense(2048, activation='relu'),    # 1. skriveni sloj\n",
    "    Dropout(0.5),\n",
    "    Dense(1024, activation='relu'),    # 2. skriveni sloj\n",
    "    Dropout(0.5),\n",
    "    Dense(512, activation='relu'),     # 3. skriveni sloj\n",
    "    Dropout(0.5),\n",
    "    Dense(103, activation='softmax')   # izlazni sloj\n",
    "])"
   ]
  },
  {
   "cell_type": "markdown",
   "metadata": {},
   "source": [
    "Ovim smo definisali arhitekturu neuronske mreže sa 47 236 neurona u ulaznom i 108 neurona u izlaznom sloju, te 3 skrivena/unutrašnja sloja. Aktivaciona funkcija ulaznog i svih skrivenih slojeva je *ReLU*, a zbog toga što rješavamo problem višeklasne klasifikacije, aktivaciona funkcija izlaznog sloja je *softmax*."
   ]
  },
  {
   "cell_type": "code",
   "execution_count": 11,
   "metadata": {},
   "outputs": [],
   "source": [
    "# definisanje optimizatora, f-je greške i metrike\n",
    "model.compile(optimizer=Adam(),\n",
    "              loss=SparseCategoricalCrossentropy(),\n",
    "              metrics=['accuracy'])\n",
    "\n",
    "# definisanje checkpoint-a za čuvanje najboljeg modela\n",
    "checkpoint = ModelCheckpoint('best_model.keras', monitor='val_accuracy', save_best_only=True, mode='max', verbose=1)"
   ]
  },
  {
   "cell_type": "markdown",
   "metadata": {},
   "source": [
    "Kao funkciju greške koristimo *SparseCategoricalCrossentropy*, jer je pogodna za višeklasnu klasifikaciju. Ova funkcija će izračunavati gubitak između predikcija i stvarnih ciljnih vrijednosti tokom treniranja.\n",
    "\n",
    "Optimizator će automatski prilagoditi težine modela kako bi minimizovao funkciju greške koja je definisana sa *loss*.\n",
    "\n",
    "Metrika koju pratimo je tačnost i ona se koristi za praćenje performansi modela tokom treniranja i validacije, ali se ne koristi direktno u procesu optimizacije težina."
   ]
  },
  {
   "cell_type": "code",
   "execution_count": 12,
   "metadata": {},
   "outputs": [
    {
     "name": "stdout",
     "output_type": "stream",
     "text": [
      "Epoch 1/5\n",
      "\u001b[1m1165/1165\u001b[0m \u001b[32m━━━━━━━━━━━━━━━━━━━━\u001b[0m\u001b[37m\u001b[0m \u001b[1m0s\u001b[0m 901ms/step - accuracy: 0.7692 - loss: 0.9271\n",
      "Epoch 1: val_accuracy improved from -inf to 0.78066, saving model to best_model.keras\n",
      "\u001b[1m1165/1165\u001b[0m \u001b[32m━━━━━━━━━━━━━━━━━━━━\u001b[0m\u001b[37m\u001b[0m \u001b[1m1298s\u001b[0m 1s/step - accuracy: 0.7694 - loss: 0.9265 - val_accuracy: 0.7807 - val_loss: 1.0625\n",
      "Epoch 2/5\n",
      "\u001b[1m1165/1165\u001b[0m \u001b[32m━━━━━━━━━━━━━━━━━━━━\u001b[0m\u001b[37m\u001b[0m \u001b[1m0s\u001b[0m 983ms/step - accuracy: 0.9921 - loss: 0.0373\n",
      "Epoch 2: val_accuracy did not improve from 0.78066\n",
      "\u001b[1m1165/1165\u001b[0m \u001b[32m━━━━━━━━━━━━━━━━━━━━\u001b[0m\u001b[37m\u001b[0m \u001b[1m1237s\u001b[0m 990ms/step - accuracy: 0.9921 - loss: 0.0373 - val_accuracy: 0.7761 - val_loss: 1.1865\n",
      "Epoch 3/5\n",
      "\u001b[1m1165/1165\u001b[0m \u001b[32m━━━━━━━━━━━━━━━━━━━━\u001b[0m\u001b[37m\u001b[0m \u001b[1m0s\u001b[0m 965ms/step - accuracy: 0.9944 - loss: 0.0260\n",
      "Epoch 3: val_accuracy did not improve from 0.78066\n",
      "\u001b[1m1165/1165\u001b[0m \u001b[32m━━━━━━━━━━━━━━━━━━━━\u001b[0m\u001b[37m\u001b[0m \u001b[1m1178s\u001b[0m 1s/step - accuracy: 0.9944 - loss: 0.0260 - val_accuracy: 0.7686 - val_loss: 1.4440\n",
      "Epoch 4/5\n",
      "\u001b[1m1165/1165\u001b[0m \u001b[32m━━━━━━━━━━━━━━━━━━━━\u001b[0m\u001b[37m\u001b[0m \u001b[1m0s\u001b[0m 972ms/step - accuracy: 0.9950 - loss: 0.0265\n",
      "Epoch 4: val_accuracy did not improve from 0.78066\n",
      "\u001b[1m1165/1165\u001b[0m \u001b[32m━━━━━━━━━━━━━━━━━━━━\u001b[0m\u001b[37m\u001b[0m \u001b[1m1137s\u001b[0m 973ms/step - accuracy: 0.9950 - loss: 0.0265 - val_accuracy: 0.7726 - val_loss: 1.5064\n",
      "Epoch 5/5\n",
      "\u001b[1m1165/1165\u001b[0m \u001b[32m━━━━━━━━━━━━━━━━━━━━\u001b[0m\u001b[37m\u001b[0m \u001b[1m0s\u001b[0m 878ms/step - accuracy: 0.9955 - loss: 0.0212\n",
      "Epoch 5: val_accuracy did not improve from 0.78066\n",
      "\u001b[1m1165/1165\u001b[0m \u001b[32m━━━━━━━━━━━━━━━━━━━━\u001b[0m\u001b[37m\u001b[0m \u001b[1m1053s\u001b[0m 879ms/step - accuracy: 0.9955 - loss: 0.0212 - val_accuracy: 0.7732 - val_loss: 1.6902\n",
      "\u001b[1m12208/12208\u001b[0m \u001b[32m━━━━━━━━━━━━━━━━━━━━\u001b[0m\u001b[37m\u001b[0m \u001b[1m1433s\u001b[0m 113ms/step - accuracy: 0.7411 - loss: 1.1783\n",
      "Test Accuracy: 0.7418644428253174\n",
      "\u001b[1m12208/12208\u001b[0m \u001b[32m━━━━━━━━━━━━━━━━━━━━\u001b[0m\u001b[37m\u001b[0m \u001b[1m1367s\u001b[0m 112ms/step\n",
      "Test Precision: 0.7366147800620698\n",
      "Test Recall: 0.7418644657887731\n",
      "Test F1 Score: 0.7217076597920781\n",
      "              precision    recall  f1-score   support\n",
      "\n",
      "           0       0.44      0.24      0.31     11770\n",
      "           1       0.89      0.30      0.45      5678\n",
      "           2       0.50      0.34      0.40     15967\n",
      "           3       0.65      0.23      0.34      3348\n",
      "           4       0.87      0.91      0.89     71052\n",
      "           8       0.69      0.06      0.11       595\n",
      "           9       0.68      0.73      0.70     15401\n",
      "          14       0.50      0.80      0.62     16642\n",
      "          18       0.66      0.27      0.38      9459\n",
      "          19       0.45      0.14      0.22      1951\n",
      "          20       0.07      0.00      0.00       641\n",
      "          21       0.47      0.31      0.37      7747\n",
      "          22       0.45      0.46      0.46     11063\n",
      "          26       0.53      0.02      0.03       589\n",
      "          27       0.65      0.25      0.37      4173\n",
      "          29       1.00      0.00      0.00       145\n",
      "          30       0.89      0.63      0.74      4288\n",
      "          32       0.70      0.52      0.60      3803\n",
      "          33       0.22      0.00      0.00      1058\n",
      "          34       0.53      0.51      0.52      3868\n",
      "          35       0.46      0.65      0.54     10278\n",
      "          37       0.90      0.49      0.64      2365\n",
      "          40       0.57      0.31      0.40       654\n",
      "          44       0.82      0.66      0.73     15492\n",
      "          47       0.72      0.36      0.48       840\n",
      "          51       0.85      0.30      0.44      1771\n",
      "          53       0.60      0.47      0.52      6457\n",
      "          57       0.67      0.06      0.11        99\n",
      "          58       0.97      0.89      0.93      2465\n",
      "          59       0.09      0.01      0.01       129\n",
      "          60       0.80      0.29      0.42      2619\n",
      "          70       0.75      0.98      0.85     76967\n",
      "          93       0.88      0.90      0.89     20845\n",
      "          94       0.84      0.72      0.78     10240\n",
      "          95       0.84      0.83      0.83     18254\n",
      "          98       0.87      0.94      0.91     31841\n",
      "         102       1.00      0.00      0.00        78\n",
      "\n",
      "    accuracy                           0.74    390632\n",
      "   macro avg       0.66      0.42      0.46    390632\n",
      "weighted avg       0.74      0.74      0.72    390632\n",
      "\n"
     ]
    }
   ],
   "source": [
    "from sklearn.metrics import precision_score, recall_score, f1_score, classification_report\n",
    "\n",
    "# treniranje modela\n",
    "history = model.fit(X_train_res, y_train_res,\n",
    "                    epochs=5,\n",
    "                    batch_size=64,\n",
    "                    validation_data=(X_valid, y_valid),\n",
    "                    callbacks=[checkpoint])\n",
    "\n",
    "# učitavanje informacija o najboljem modelu koje smo radnije sačuvali\n",
    "best_model = tf.keras.models.load_model('best_model.keras')\n",
    "\n",
    "# evaluacija performansi najboljeg modela\n",
    "loss, accuracy = best_model.evaluate(X_test, y_test)\n",
    "print(f'Test Accuracy: {accuracy}')\n",
    "\n",
    "# predikcije na testnom skupu\n",
    "y_pred = best_model.predict(X_test).argmax(axis=1)\n",
    "\n",
    "# izračunavanje metrika\n",
    "precision = precision_score(y_test, y_pred, average='weighted', zero_division=1)\n",
    "recall = recall_score(y_test, y_pred, average='weighted', zero_division=1)\n",
    "f1 = f1_score(y_test, y_pred, average='weighted', zero_division=1)\n",
    "print(f'Test Precision: {precision}')\n",
    "print(f'Test Recall: {recall}')\n",
    "print(f'Test F1 Score: {f1}')\n",
    "\n",
    "print(classification_report(y_test, y_pred, zero_division=1))"
   ]
  },
  {
   "cell_type": "markdown",
   "metadata": {},
   "source": [
    "Za drugi dio projektnog zadatka potrebno je nad istim skupom podataka istrenirati ***ligthGBM klasifikator***.\n",
    "Naredbe za instalaciju biblioteka potrebnih za pokretanje koda drugog dijela projektnog zadatka:\n",
    "```bash\n",
    "pip install lightgbm\n",
    "pip install optuna\n",
    "```"
   ]
  },
  {
   "cell_type": "code",
   "execution_count": 13,
   "metadata": {},
   "outputs": [],
   "source": [
    "import lightgbm as lgb\n",
    "import optuna"
   ]
  },
  {
   "cell_type": "markdown",
   "metadata": {},
   "source": [
    "Podaci su već uvezeni, podijeljeni na odgovarajuće skupove i balansirani, pa odmah prelazimo na definisanje opsega hiperparametara na kojima ćemo posmatrati ponašanje modela."
   ]
  },
  {
   "cell_type": "code",
   "execution_count": 14,
   "metadata": {},
   "outputs": [],
   "source": [
    "from sklearn.metrics import accuracy_score\n",
    "\n",
    "# f-ja kojom definišemo cilj treninga i parametre koji variraju kod lightGBM klasifikatora\n",
    "def objective(trial):\n",
    "    param = {\n",
    "        \"objective\": \"multiclass\",\n",
    "        \"num_class\": 103,\n",
    "        \"metric\": \"multi_logloss\",\n",
    "        \"verbosity\": -1,\n",
    "        \"boosting_type\": \"gbdt\",\n",
    "        \"lambda_l1\": trial.suggest_float(\"lambda_l1\", 1e-8, 10.0, log=True),\n",
    "        \"lambda_l2\": trial.suggest_float(\"lambda_l2\", 1e-8, 10.0, log=True),\n",
    "        \"num_leaves\": trial.suggest_int(\"num_leaves\", 2, 256),\n",
    "        \"feature_fraction\": trial.suggest_float(\"feature_fraction\", 0.4, 1.0),\n",
    "        \"bagging_fraction\": trial.suggest_float(\"bagging_fraction\", 0.4, 1.0),\n",
    "        \"bagging_freq\": trial.suggest_int(\"bagging_freq\", 1, 7),\n",
    "        \"min_child_samples\": trial.suggest_int(\"min_child_samples\", 5, 100),\n",
    "        \"learning_rate\": trial.suggest_float(\"learning_rate\", 1e-1, 1.0, log=True),\n",
    "    }\n",
    "\n",
    "    \n",
    "    model = lgb.LGBMClassifier(**param)\n",
    "    model.fit(X_train_res, y_train_res, eval_set=[(X_valid, y_valid)], callbacks=[lgb.early_stopping(stopping_rounds=10)])\n",
    "    y_pred = model.predict(X_valid)\n",
    "    accuracy = accuracy_score(y_valid, y_pred)\n",
    "    return accuracy"
   ]
  },
  {
   "cell_type": "markdown",
   "metadata": {},
   "source": [
    "Objašnjenje opsega vrijednost koje smo uzeli za hiperparametre i kako oni utiču na stablo odlučivanja:\n",
    "1. ***lambda_l1* i *lambda_l2* - regularizacija L1 i L2**:\n",
    "- variraju od 1e-8 do 10.0 - veće vrijednosti povećavaju regularizaciju, što pomaže da se smanji overfitting\n",
    "2. ***num_leaves* - maksimalan broj listova po stablu**:\n",
    "- varira od 2 do 256 - veće vrijednosti omogućavaju složenije modele\n",
    "3. ***feature_fraction* - procenat feature-a koji se koriste u svakoj iteraciji**:\n",
    "- varira od 0.4 do 1.0 - manje vrijednosti sprečavaju overfitting\n",
    "4. ***bagging_fraction* - procenat uzoraka koji se koriste u svakoj iteraciji**:\n",
    "- varira od 0.4 do 1.0 - manje vrijednosti sprečavaju overfitting\n",
    "5. ***bagging_freq* - učestalost bagging-a**:\n",
    "- varira od 1 do 7 - veće vrijednosti povećavaju robusnost modela smanjenjem varijanse, ali povećavaju vrijeme treniranja\n",
    "6. ***min_child_samples* - minimalan br. uzoraka potrebnih da bi se podijelio čvor**:\n",
    "- varira od 5 do 100 - veće vrijednosti smanjuju mogućnost da dođe do overfitting-a\n",
    "7. ***learning_rate*** - promjena težina modela kao odgovor na procjenjenu grešku:\n",
    "- varira od 1e-1 do 1.0 - veće vrijednosti omogućavaju bržu konvergenciju, ali s rizikom da dođe do preskakanja optimalnog rješenja"
   ]
  },
  {
   "cell_type": "code",
   "execution_count": 16,
   "metadata": {},
   "outputs": [
    {
     "name": "stderr",
     "output_type": "stream",
     "text": [
      "[I 2024-06-26 17:07:13,387] A new study created in memory with name: no-name-aa739667-f126-45db-a254-6e90d67ca412\n"
     ]
    },
    {
     "name": "stdout",
     "output_type": "stream",
     "text": [
      "Training until validation scores don't improve for 10 rounds\n",
      "Did not meet early stopping. Best iteration is:\n",
      "[98]\tvalid_0's multi_logloss: 0.75683\n"
     ]
    },
    {
     "name": "stderr",
     "output_type": "stream",
     "text": [
      "[I 2024-06-26 17:20:12,488] Trial 0 finished with value: 0.7962003454231433 and parameters: {'lambda_l1': 2.8564849841336635, 'lambda_l2': 1.619939623594285e-08, 'num_leaves': 109, 'feature_fraction': 0.7261803604019853, 'bagging_fraction': 0.8893758865019048, 'bagging_freq': 2, 'min_child_samples': 36}. Best is trial 0 with value: 0.7962003454231433.\n"
     ]
    },
    {
     "name": "stdout",
     "output_type": "stream",
     "text": [
      "Training until validation scores don't improve for 10 rounds\n",
      "Early stopping, best iteration is:\n",
      "[42]\tvalid_0's multi_logloss: 0.810578\n"
     ]
    },
    {
     "name": "stderr",
     "output_type": "stream",
     "text": [
      "[I 2024-06-26 17:44:13,341] Trial 1 finished with value: 0.8059873344847438 and parameters: {'lambda_l1': 2.4710764289326206e-07, 'lambda_l2': 6.627768698260412e-08, 'num_leaves': 187, 'feature_fraction': 0.8724652709931167, 'bagging_fraction': 0.6965413630295012, 'bagging_freq': 3, 'min_child_samples': 82}. Best is trial 1 with value: 0.8059873344847438.\n"
     ]
    },
    {
     "name": "stdout",
     "output_type": "stream",
     "text": [
      "Training until validation scores don't improve for 10 rounds\n",
      "Early stopping, best iteration is:\n",
      "[79]\tvalid_0's multi_logloss: 0.768031\n"
     ]
    },
    {
     "name": "stderr",
     "output_type": "stream",
     "text": [
      "[I 2024-06-26 17:56:27,576] Trial 2 finished with value: 0.7944732297063903 and parameters: {'lambda_l1': 4.092109204906268, 'lambda_l2': 0.04900165020324122, 'num_leaves': 89, 'feature_fraction': 0.9654306130513368, 'bagging_fraction': 0.8755153531480141, 'bagging_freq': 7, 'min_child_samples': 54}. Best is trial 1 with value: 0.8059873344847438.\n"
     ]
    },
    {
     "name": "stdout",
     "output_type": "stream",
     "text": [
      "Training until validation scores don't improve for 10 rounds\n",
      "Early stopping, best iteration is:\n",
      "[34]\tvalid_0's multi_logloss: 0.843977\n"
     ]
    },
    {
     "name": "stderr",
     "output_type": "stream",
     "text": [
      "[I 2024-06-26 18:11:08,540] Trial 3 finished with value: 0.7927461139896373 and parameters: {'lambda_l1': 1.88379041662297e-06, 'lambda_l2': 4.9383887885706253e-05, 'num_leaves': 120, 'feature_fraction': 0.7118441150837593, 'bagging_fraction': 0.9177891462106128, 'bagging_freq': 4, 'min_child_samples': 53}. Best is trial 1 with value: 0.8059873344847438.\n"
     ]
    },
    {
     "name": "stdout",
     "output_type": "stream",
     "text": [
      "Training until validation scores don't improve for 10 rounds\n",
      "Early stopping, best iteration is:\n",
      "[49]\tvalid_0's multi_logloss: 0.80889\n"
     ]
    },
    {
     "name": "stderr",
     "output_type": "stream",
     "text": [
      "[I 2024-06-26 18:37:16,342] Trial 4 finished with value: 0.7938975244674726 and parameters: {'lambda_l1': 1.5379259005882808e-05, 'lambda_l2': 0.0007279909093645176, 'num_leaves': 256, 'feature_fraction': 0.4523642568833109, 'bagging_fraction': 0.6126852074916422, 'bagging_freq': 5, 'min_child_samples': 48}. Best is trial 1 with value: 0.8059873344847438.\n"
     ]
    },
    {
     "name": "stdout",
     "output_type": "stream",
     "text": [
      "Training until validation scores don't improve for 10 rounds\n",
      "Early stopping, best iteration is:\n",
      "[37]\tvalid_0's multi_logloss: 0.861316\n"
     ]
    },
    {
     "name": "stderr",
     "output_type": "stream",
     "text": [
      "[I 2024-06-26 18:55:16,030] Trial 5 finished with value: 0.795048934945308 and parameters: {'lambda_l1': 0.0038351236183668345, 'lambda_l2': 0.00022073687835532778, 'num_leaves': 199, 'feature_fraction': 0.7051781223925677, 'bagging_fraction': 0.7856485271103513, 'bagging_freq': 5, 'min_child_samples': 27}. Best is trial 1 with value: 0.8059873344847438.\n"
     ]
    },
    {
     "name": "stdout",
     "output_type": "stream",
     "text": [
      "Training until validation scores don't improve for 10 rounds\n",
      "Early stopping, best iteration is:\n",
      "[45]\tvalid_0's multi_logloss: 0.765524\n"
     ]
    },
    {
     "name": "stderr",
     "output_type": "stream",
     "text": [
      "[I 2024-06-26 19:10:13,614] Trial 6 finished with value: 0.8094415659182499 and parameters: {'lambda_l1': 0.000138026955057922, 'lambda_l2': 0.3122995055500407, 'num_leaves': 140, 'feature_fraction': 0.7385020544767629, 'bagging_fraction': 0.8870672632019924, 'bagging_freq': 5, 'min_child_samples': 52}. Best is trial 6 with value: 0.8094415659182499.\n"
     ]
    },
    {
     "name": "stdout",
     "output_type": "stream",
     "text": [
      "Training until validation scores don't improve for 10 rounds\n",
      "Early stopping, best iteration is:\n",
      "[57]\tvalid_0's multi_logloss: 0.767324\n"
     ]
    },
    {
     "name": "stderr",
     "output_type": "stream",
     "text": [
      "[I 2024-06-26 19:20:56,790] Trial 7 finished with value: 0.8002302820955671 and parameters: {'lambda_l1': 0.4306881440675227, 'lambda_l2': 3.9124730233903544e-08, 'num_leaves': 215, 'feature_fraction': 0.7275771279681029, 'bagging_fraction': 0.41246764941517994, 'bagging_freq': 1, 'min_child_samples': 26}. Best is trial 6 with value: 0.8094415659182499.\n"
     ]
    },
    {
     "name": "stdout",
     "output_type": "stream",
     "text": [
      "Training until validation scores don't improve for 10 rounds\n",
      "Did not meet early stopping. Best iteration is:\n",
      "[98]\tvalid_0's multi_logloss: 0.722194\n"
     ]
    },
    {
     "name": "stderr",
     "output_type": "stream",
     "text": [
      "[I 2024-06-26 19:36:57,132] Trial 8 finished with value: 0.8094415659182499 and parameters: {'lambda_l1': 0.1164144099985862, 'lambda_l2': 5.744499994951523, 'num_leaves': 217, 'feature_fraction': 0.63587982266162, 'bagging_fraction': 0.41399158853734774, 'bagging_freq': 1, 'min_child_samples': 36}. Best is trial 6 with value: 0.8094415659182499.\n"
     ]
    },
    {
     "name": "stdout",
     "output_type": "stream",
     "text": [
      "Training until validation scores don't improve for 10 rounds\n",
      "Early stopping, best iteration is:\n",
      "[40]\tvalid_0's multi_logloss: 0.755189\n"
     ]
    },
    {
     "name": "stderr",
     "output_type": "stream",
     "text": [
      "[I 2024-06-26 19:46:00,810] Trial 9 finished with value: 0.8077144502014968 and parameters: {'lambda_l1': 0.00555979059001471, 'lambda_l2': 0.011021715110853526, 'num_leaves': 210, 'feature_fraction': 0.6791521309903719, 'bagging_fraction': 0.6429896011538936, 'bagging_freq': 3, 'min_child_samples': 99}. Best is trial 6 with value: 0.8094415659182499.\n"
     ]
    },
    {
     "name": "stdout",
     "output_type": "stream",
     "text": [
      "Number of finished trials: 10\n",
      "Best trial:\n",
      "  Value: 0.8094415659182499\n",
      "  Params: \n",
      "    lambda_l1: 0.000138026955057922\n",
      "    lambda_l2: 0.3122995055500407\n",
      "    num_leaves: 140\n",
      "    feature_fraction: 0.7385020544767629\n",
      "    bagging_fraction: 0.8870672632019924\n",
      "    bagging_freq: 5\n",
      "    min_child_samples: 52\n"
     ]
    }
   ],
   "source": [
    "study = optuna.create_study(direction=\"maximize\")\n",
    "study.optimize(objective, n_trials=10)\n",
    "\n",
    "print(\"Number of finished trials: {}\".format(len(study.trials)))\n",
    "\n",
    "print(\"Best trial:\")\n",
    "trial = study.best_trial\n",
    "\n",
    "print(\"  Value: {}\".format(trial.value))\n",
    "\n",
    "print(\"  Params: \")\n",
    "for key, value in trial.params.items():\n",
    "    print(\"    {}: {}\".format(key, value))"
   ]
  },
  {
   "cell_type": "markdown",
   "metadata": {},
   "source": [
    "Sada je pronađena i sačuvana najbolja kombinacija hiperparametara (*trial.params*), te na tako optimizovanim hiperparametrima vršimo dodatnu evaluaciju modela na validacionom skupu podataka."
   ]
  },
  {
   "cell_type": "code",
   "execution_count": 24,
   "metadata": {},
   "outputs": [
    {
     "name": "stdout",
     "output_type": "stream",
     "text": [
      "Training until validation scores don't improve for 10 rounds\n",
      "Early stopping, best iteration is:\n",
      "[45]\tvalid_0's multi_logloss: 0.765524\n",
      "Test Accuracy: 0.7608490855843864\n",
      "Test Precision: 0.5865425844097253\n",
      "Test Recall: 0.48791600605223717\n",
      "Test F1 Score: 0.5051139602449142\n",
      "              precision    recall  f1-score   support\n",
      "\n",
      "           0       0.44      0.39      0.42     11770\n",
      "           1       0.69      0.54      0.61      5678\n",
      "           2       0.47      0.39      0.43     15967\n",
      "           3       0.54      0.40      0.46      3348\n",
      "           4       0.88      0.91      0.89     71052\n",
      "           8       0.36      0.25      0.30       595\n",
      "           9       0.71      0.68      0.70     15401\n",
      "          14       0.62      0.75      0.68     16642\n",
      "          18       0.57      0.48      0.52      9459\n",
      "          19       0.41      0.25      0.31      1951\n",
      "          20       0.15      0.01      0.02       641\n",
      "          21       0.48      0.35      0.41      7747\n",
      "          22       0.62      0.39      0.48     11063\n",
      "          26       0.21      0.03      0.06       589\n",
      "          27       0.55      0.50      0.52      4173\n",
      "          29       0.17      0.01      0.01       145\n",
      "          30       0.74      0.76      0.75      4288\n",
      "          32       0.55      0.70      0.62      3803\n",
      "          33       0.37      0.12      0.18      1058\n",
      "          34       0.53      0.56      0.55      3868\n",
      "          35       0.55      0.51      0.53     10278\n",
      "          37       0.76      0.77      0.77      2365\n",
      "          40       0.47      0.38      0.42       654\n",
      "          44       0.79      0.72      0.75     15492\n",
      "          47       0.61      0.50      0.55       840\n",
      "          51       0.73      0.42      0.54      1771\n",
      "          53       0.61      0.48      0.54      6457\n",
      "          57       0.11      0.06      0.08        99\n",
      "          58       0.94      0.85      0.89      2465\n",
      "          59       0.50      0.01      0.02       129\n",
      "          60       0.46      0.46      0.46      2619\n",
      "          70       0.86      0.96      0.90     76967\n",
      "          93       0.85      0.90      0.88     20845\n",
      "          94       0.75      0.76      0.76     10240\n",
      "          95       0.81      0.86      0.83     18254\n",
      "          98       0.85      0.95      0.89     31841\n",
      "         102       1.00      0.00      0.00        78\n",
      "\n",
      "    accuracy                           0.76    390632\n",
      "   macro avg       0.59      0.49      0.51    390632\n",
      "weighted avg       0.75      0.76      0.75    390632\n",
      "\n"
     ]
    }
   ],
   "source": [
    "from sklearn.metrics import accuracy_score, precision_score, recall_score, f1_score, classification_report\n",
    "\n",
    "# treniranje najboljeg modela sa pronađenim parametrima\n",
    "best_params = trial.params\n",
    "\n",
    "# uklanjanje redundantnih parametara\n",
    "conflicting_params = {\n",
    "    'colsample_bytree': 'feature_fraction',\n",
    "    'reg_alpha': 'lambda_l1',\n",
    "    'reg_lambda': 'lambda_l2',\n",
    "    'subsample': 'bagging_fraction',\n",
    "    'subsample_freq': 'bagging_freq'\n",
    "}\n",
    "\n",
    "# uklanjanje parametara iz conflicting_params koji su u best_params\n",
    "for redundant_param, primary_param in conflicting_params.items():\n",
    "    if redundant_param in best_params:\n",
    "        del best_params[redundant_param]\n",
    "\n",
    "# dodavanje neophodnih parametara\n",
    "best_params['objective'] = 'multiclass'\n",
    "best_params['num_class'] = 103\n",
    "best_params['metric'] = 'multi_logloss'\n",
    "best_params['force_col_wise'] = True\n",
    "best_params['verbosity'] = -1\n",
    "\n",
    "final_model = lgb.LGBMClassifier(**best_params)\n",
    "final_model.fit(X_train_res, y_train_res, eval_set=[(X_valid, y_valid)], callbacks=[lgb.early_stopping(stopping_rounds=10)])\n",
    "\n",
    "# evaluacija na testnom skupu\n",
    "y_pred = final_model.predict(X_test)\n",
    "\n",
    "accuracy = accuracy_score(y_test, y_pred)\n",
    "precision = precision_score(y_test, y_pred, average='macro', zero_division=1)\n",
    "recall = recall_score(y_test, y_pred, average='macro', zero_division=1)\n",
    "f1 = f1_score(y_test, y_pred, average='macro', zero_division=1)\n",
    "\n",
    "print(f'Test Accuracy: {accuracy}')\n",
    "print(f'Test Precision: {precision}')\n",
    "print(f'Test Recall: {recall}')\n",
    "print(f'Test F1 Score: {f1}')\n",
    "print(classification_report(y_test, y_pred, zero_division=1))"
   ]
  },
  {
   "cell_type": "markdown",
   "metadata": {},
   "source": [
    "# **Zaključak**:\n",
    "Nakon treniranja oba modela uočavamo:\n",
    "1. neuronska mreža: \n",
    "- viša vrijednost metrika *precision*, *recall*, i *f1 score*, što sugeriše bolje performanse po pitanju tačnosti i pokrivenosti klasa\n",
    "- sveobuhvatno bolje performanse po metrikama po klasama, posebno *precision* i *f1 score*.\n",
    "- niža vrijednost za *accuracy*\n",
    "\n",
    "2. lightGBM:\n",
    "- viša vrijednost za *accuracy*, dakle veći procenat tačnih predikcija\n",
    "- niže vrijednosti metrika *precision*, *recall* i *f1 score*, što podrazumijeva manju pouzdanost kad su u pitanju tačnost i pokrivenost svih klasa\n",
    "- više zavisi od hiperparametara i podešavanja i zapravo je manje kompleksan model u ovom slučaju (radi bržeg treniranja i evaluacije)\n",
    "\n",
    "Na osnovu analize rezultata koje smo dobili testiranjem oba modela, možemo zaključiti da **neuronska mreža** (sa arhitekturom kakvu smo definisali) pokazuje sveobuhvatno bolje performanse kad se uzmu u obzir metrike relevantne za klasifikacione zadatke."
   ]
  }
 ],
 "metadata": {
  "kernelspec": {
   "display_name": "Python 3",
   "language": "python",
   "name": "python3"
  },
  "language_info": {
   "codemirror_mode": {
    "name": "ipython",
    "version": 3
   },
   "file_extension": ".py",
   "mimetype": "text/x-python",
   "name": "python",
   "nbconvert_exporter": "python",
   "pygments_lexer": "ipython3",
   "version": "3.12.2"
  }
 },
 "nbformat": 4,
 "nbformat_minor": 2
}
